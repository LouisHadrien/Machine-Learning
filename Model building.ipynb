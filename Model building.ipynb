{
 "cells": [
  {
   "cell_type": "code",
   "execution_count": 8,
   "metadata": {},
   "outputs": [],
   "source": [
    "import pandas as pd\n",
    "import numpy as np\n",
    "from sklearn.ensemble import RandomForestClassifier, VotingClassifier\n",
    "from sklearn.neighbors import KNeighborsClassifier\n",
    "from sklearn.svm import SVC\n",
    "from sklearn.model_selection import cross_val_score\n",
    "from sklearn.feature_selection import RFE\n",
    "from sklearn.linear_model import LogisticRegression\n",
    "from sklearn.neural_network import MLPClassifier\n",
    "from sklearn.preprocessing import StandardScaler\n",
    "from sklearn.metrics import confusion_matrix\n",
    "from sklearn.model_selection import GridSearchCV\n",
    "import time\n",
    "\n"
   ]
  },
  {
   "cell_type": "code",
   "execution_count": 2,
   "metadata": {},
   "outputs": [
    {
     "data": {
      "text/plain": [
       "['Title_ Col',\n",
       " 'Title_ Don',\n",
       " 'Title_ Dona',\n",
       " 'Title_ Dr',\n",
       " 'Title_ Jonkheer',\n",
       " 'Title_ Lady',\n",
       " 'Title_ Major',\n",
       " 'Title_ Master',\n",
       " 'Title_ Miss',\n",
       " 'Title_ Mlle',\n",
       " 'Title_ Mme',\n",
       " 'Title_ Mr',\n",
       " 'Title_ Mrs',\n",
       " 'Title_ Ms',\n",
       " 'Title_ Rev',\n",
       " 'Title_ Sir',\n",
       " 'Title_ the Countess',\n",
       " 'Companion',\n",
       " 'Sex_male',\n",
       " 'Pclass',\n",
       " 'SibSp',\n",
       " 'Parch',\n",
       " 'Fare',\n",
       " 'Embarked_Q',\n",
       " 'Embarked_S',\n",
       " 'Married_Woman',\n",
       " 'Age_Classe_estimate']"
      ]
     },
     "execution_count": 2,
     "metadata": {},
     "output_type": "execute_result"
    }
   ],
   "source": [
    "X_train=pd.read_csv('X_train_dummy.csv')\n",
    "y_train=pd.read_csv('y_train_dummy.csv',header=None)\n",
    "X_prediction = pd.read_csv('X_prediction_dummy.csv')\n",
    "y_prediction=pd.read_csv('y_prediction_dummy.csv',header=None)\n",
    "y_train = np.ravel(y_train)\n",
    "list(X_train.columns.values)     # Features available"
   ]
  },
  {
   "cell_type": "code",
   "execution_count": 3,
   "metadata": {},
   "outputs": [
    {
     "name": "stdout",
     "output_type": "stream",
     "text": [
      "Num Features: 10\n",
      "Selected Features: [False  True False False  True False False  True  True False False  True\n",
      "  True False  True False False False  True  True  True False False False\n",
      " False False False]\n",
      "Feature Ranking: [17  1 18  9  1 10 15  1  1  7 11  1  1  5  1  2 13 16  1  1  1  8 14 12\n",
      "  6  3  4]\n"
     ]
    },
    {
     "data": {
      "text/plain": [
       "['Title_ Col',\n",
       " 'Title_ Dona',\n",
       " 'Title_ Dr',\n",
       " 'Title_ Lady',\n",
       " 'Title_ Major',\n",
       " 'Title_ Mlle',\n",
       " 'Title_ Mme',\n",
       " 'Title_ Ms',\n",
       " 'Title_ Sir',\n",
       " 'Title_ the Countess',\n",
       " 'Companion',\n",
       " 'Parch',\n",
       " 'Fare',\n",
       " 'Embarked_Q',\n",
       " 'Embarked_S',\n",
       " 'Married_Woman']"
      ]
     },
     "execution_count": 3,
     "metadata": {},
     "output_type": "execute_result"
    }
   ],
   "source": [
    "\n",
    "# ********************. Feature extraction by logistic regression ****************************\n",
    "model =LogisticRegression()\n",
    "rfe = RFE(model, 10)\n",
    "\n",
    "fit = rfe.fit(X_train, y_train)\n",
    "\n",
    "print(\"Num Features: %d\"% fit.n_features_) \n",
    "print(\"Selected Features: %s\"% fit.support_) \n",
    "print(\"Feature Ranking: %s\"% fit.ranking_)\n",
    "\n",
    "titles=['Title_ Col', 'Title_ Don', 'Title_ Dona', 'Title_ Dr', 'Title_ Jonkheer', 'Title_ Lady', 'Title_ Major', 'Title_ Master', 'Title_ Miss', 'Title_ Mlle',\n",
    " 'Title_ Mme', 'Title_ Mr', 'Title_ Mrs', 'Title_ Ms', 'Title_ Rev', 'Title_ Sir', 'Title_ the Countess', 'Companion', 'Sex_male', 'Pclass', 'SibSp',\n",
    " 'Parch', 'Fare', 'Embarked_Q', 'Embarked_S', 'Married_Woman', 'Age_Classe_estimate']\n",
    "drop_list=[]\n",
    "for i in range(0,26):\n",
    "    if fit.support_[i]==False:\n",
    "        drop_list.append(titles[i])\n",
    "drop_list"
   ]
  },
  {
   "cell_type": "code",
   "execution_count": 4,
   "metadata": {},
   "outputs": [],
   "source": [
    "X_train=X_train.drop(drop_list, axis=1)   # get rid of unselected features\n",
    "X_prediction=X_prediction.drop(drop_list, axis=1)"
   ]
  },
  {
   "cell_type": "code",
   "execution_count": 5,
   "metadata": {},
   "outputs": [
    {
     "data": {
      "text/html": [
       "<div>\n",
       "<style scoped>\n",
       "    .dataframe tbody tr th:only-of-type {\n",
       "        vertical-align: middle;\n",
       "    }\n",
       "\n",
       "    .dataframe tbody tr th {\n",
       "        vertical-align: top;\n",
       "    }\n",
       "\n",
       "    .dataframe thead th {\n",
       "        text-align: right;\n",
       "    }\n",
       "</style>\n",
       "<table border=\"1\" class=\"dataframe\">\n",
       "  <thead>\n",
       "    <tr style=\"text-align: right;\">\n",
       "      <th></th>\n",
       "      <th>Title_ Don</th>\n",
       "      <th>Title_ Jonkheer</th>\n",
       "      <th>Title_ Master</th>\n",
       "      <th>Title_ Miss</th>\n",
       "      <th>Title_ Mr</th>\n",
       "      <th>Title_ Mrs</th>\n",
       "      <th>Title_ Rev</th>\n",
       "      <th>Sex_male</th>\n",
       "      <th>Pclass</th>\n",
       "      <th>SibSp</th>\n",
       "      <th>Age_Classe_estimate</th>\n",
       "    </tr>\n",
       "  </thead>\n",
       "  <tbody>\n",
       "    <tr>\n",
       "      <th>0</th>\n",
       "      <td>0</td>\n",
       "      <td>0</td>\n",
       "      <td>0</td>\n",
       "      <td>0</td>\n",
       "      <td>1</td>\n",
       "      <td>0</td>\n",
       "      <td>0</td>\n",
       "      <td>1</td>\n",
       "      <td>3</td>\n",
       "      <td>1</td>\n",
       "      <td>1</td>\n",
       "    </tr>\n",
       "    <tr>\n",
       "      <th>1</th>\n",
       "      <td>0</td>\n",
       "      <td>0</td>\n",
       "      <td>0</td>\n",
       "      <td>0</td>\n",
       "      <td>0</td>\n",
       "      <td>1</td>\n",
       "      <td>0</td>\n",
       "      <td>0</td>\n",
       "      <td>1</td>\n",
       "      <td>1</td>\n",
       "      <td>2</td>\n",
       "    </tr>\n",
       "    <tr>\n",
       "      <th>2</th>\n",
       "      <td>0</td>\n",
       "      <td>0</td>\n",
       "      <td>0</td>\n",
       "      <td>1</td>\n",
       "      <td>0</td>\n",
       "      <td>0</td>\n",
       "      <td>0</td>\n",
       "      <td>0</td>\n",
       "      <td>3</td>\n",
       "      <td>0</td>\n",
       "      <td>1</td>\n",
       "    </tr>\n",
       "    <tr>\n",
       "      <th>3</th>\n",
       "      <td>0</td>\n",
       "      <td>0</td>\n",
       "      <td>0</td>\n",
       "      <td>0</td>\n",
       "      <td>0</td>\n",
       "      <td>1</td>\n",
       "      <td>0</td>\n",
       "      <td>0</td>\n",
       "      <td>1</td>\n",
       "      <td>1</td>\n",
       "      <td>2</td>\n",
       "    </tr>\n",
       "    <tr>\n",
       "      <th>4</th>\n",
       "      <td>0</td>\n",
       "      <td>0</td>\n",
       "      <td>0</td>\n",
       "      <td>0</td>\n",
       "      <td>1</td>\n",
       "      <td>0</td>\n",
       "      <td>0</td>\n",
       "      <td>1</td>\n",
       "      <td>3</td>\n",
       "      <td>0</td>\n",
       "      <td>2</td>\n",
       "    </tr>\n",
       "  </tbody>\n",
       "</table>\n",
       "</div>"
      ],
      "text/plain": [
       "   Title_ Don  Title_ Jonkheer  Title_ Master  Title_ Miss  Title_ Mr  \\\n",
       "0           0                0              0            0          1   \n",
       "1           0                0              0            0          0   \n",
       "2           0                0              0            1          0   \n",
       "3           0                0              0            0          0   \n",
       "4           0                0              0            0          1   \n",
       "\n",
       "   Title_ Mrs  Title_ Rev  Sex_male  Pclass  SibSp  Age_Classe_estimate  \n",
       "0           0           0         1       3      1                    1  \n",
       "1           1           0         0       1      1                    2  \n",
       "2           0           0         0       3      0                    1  \n",
       "3           1           0         0       1      1                    2  \n",
       "4           0           0         1       3      0                    2  "
      ]
     },
     "execution_count": 5,
     "metadata": {},
     "output_type": "execute_result"
    }
   ],
   "source": [
    "X_train.head()"
   ]
  },
  {
   "cell_type": "code",
   "execution_count": 6,
   "metadata": {},
   "outputs": [],
   "source": [
    "# ***************** Logistic regression  *********************"
   ]
  },
  {
   "cell_type": "code",
   "execution_count": 10,
   "metadata": {},
   "outputs": [
    {
     "data": {
      "text/plain": [
       "({'C': 1}, 0.8204264870931538)"
      ]
     },
     "execution_count": 10,
     "metadata": {},
     "output_type": "execute_result"
    }
   ],
   "source": [
    "param_grid={'C':[0.01,0.1,1,10]}\n",
    "grid_searchLR=GridSearchCV(LogisticRegression(),param_grid,cv=10)\n",
    "grid_searchLR.fit(X_train,y_train)\n",
    "LR = grid_searchLR.best_estimator_\n",
    "grid_searchLR.best_params_,grid_searchLR.best_score_"
   ]
  },
  {
   "cell_type": "code",
   "execution_count": null,
   "metadata": {},
   "outputs": [],
   "source": [
    "# ***************** Support vector machine ********************"
   ]
  },
  {
   "cell_type": "code",
   "execution_count": 11,
   "metadata": {},
   "outputs": [
    {
     "data": {
      "text/plain": [
       "({'C': 7}, 0.8226711560044894)"
      ]
     },
     "execution_count": 11,
     "metadata": {},
     "output_type": "execute_result"
    }
   ],
   "source": [
    "param_grid={'C':[1,5,6,7,8,9,10,11,13,15,20,50,100]}\n",
    "grid_searchSVM=GridSearchCV(SVC(gamma='auto'),param_grid,cv=10)\n",
    "grid_searchSVM.fit(X_train,y_train)\n",
    "SVM = grid_searchSVM.best_estimator_\n",
    "grid_searchSVM.best_params_,grid_searchSVM.best_score_"
   ]
  },
  {
   "cell_type": "code",
   "execution_count": null,
   "metadata": {},
   "outputs": [],
   "source": [
    "# ************** Neural Nestwork ***************************"
   ]
  },
  {
   "cell_type": "code",
   "execution_count": 12,
   "metadata": {},
   "outputs": [
    {
     "data": {
      "text/plain": [
       "({'activation': 'relu'}, 0.8159371492704826)"
      ]
     },
     "execution_count": 12,
     "metadata": {},
     "output_type": "execute_result"
    }
   ],
   "source": [
    "activation = ['identity', 'logistic', 'tanh', 'relu']      # selection activation function \n",
    "param_grid = dict(activation=activation)\n",
    "grid_searchNN=GridSearchCV(MLPClassifier(max_iter=10000),param_grid,cv=10)\n",
    "grid_searchNN.fit(X_train,y_train)\n",
    "grid_searchNN.best_params_,grid_searchNN.best_score_"
   ]
  },
  {
   "cell_type": "code",
   "execution_count": 25,
   "metadata": {},
   "outputs": [
    {
     "data": {
      "text/plain": [
       "({'alpha': 0.00015}, 0.8159371492704826)"
      ]
     },
     "execution_count": 25,
     "metadata": {},
     "output_type": "execute_result"
    }
   ],
   "source": [
    "param_grid={'alpha':[0.00005, 0.00007, 0.0001, 0.00015, 0.0002, 0.0003, 0.0005]}     # Select penalty \n",
    "grid_searchNN=GridSearchCV(MLPClassifier(activation='relu',max_iter=10000),param_grid,cv=10)\n",
    "grid_searchNN.fit(X_train,y_train)\n",
    "NN = grid_searchNN.best_estimator_\n",
    "grid_searchNN.best_params_,grid_searchNN.best_score_"
   ]
  },
  {
   "cell_type": "code",
   "execution_count": 14,
   "metadata": {},
   "outputs": [
    {
     "data": {
      "text/plain": [
       "({'hidden_layer_sizes': (11, 11, 11, 11, 11, 11)}, 0.8148148148148148)"
      ]
     },
     "execution_count": 14,
     "metadata": {},
     "output_type": "execute_result"
    }
   ],
   "source": [
    "# select number of hidden layers\n",
    "param_grid = {'hidden_layer_sizes':[(11,11,11), (11,11,11,11), (11,11,11,11,11),(11,11,11,11,11,11)]}\n",
    "grid_searchNN=GridSearchCV(MLPClassifier(activation='relu',max_iter=10000),param_grid,cv=10)\n",
    "grid_searchNN.fit(X_train,y_train)\n",
    "\n",
    "grid_searchNN.best_params_,grid_searchNN.best_score_"
   ]
  },
  {
   "cell_type": "code",
   "execution_count": null,
   "metadata": {},
   "outputs": [],
   "source": [
    "# ***************** K nearest neighboor ********************"
   ]
  },
  {
   "cell_type": "code",
   "execution_count": 15,
   "metadata": {},
   "outputs": [
    {
     "data": {
      "text/plain": [
       "({'n_neighbors': 6}, 0.8260381593714927)"
      ]
     },
     "execution_count": 15,
     "metadata": {},
     "output_type": "execute_result"
    }
   ],
   "source": [
    "param_grid = {'n_neighbors':np.arange(2,20)}\n",
    "grid_searchKNN=GridSearchCV(KNeighborsClassifier(),param_grid,cv=10)\n",
    "grid_searchKNN.fit(X_train,y_train)\n",
    "grid_searchKNN.best_params_,grid_searchKNN.best_score_"
   ]
  },
  {
   "cell_type": "code",
   "execution_count": 16,
   "metadata": {},
   "outputs": [
    {
     "data": {
      "text/plain": [
       "({'weights': 'uniform'}, 0.8260381593714927)"
      ]
     },
     "execution_count": 16,
     "metadata": {},
     "output_type": "execute_result"
    }
   ],
   "source": [
    "weights = ['uniform', 'distance']      # \n",
    "param_grid = dict(weights=weights)\n",
    "grid_searchKNN=GridSearchCV(KNeighborsClassifier(n_neighbors = 6),param_grid,cv=10)\n",
    "grid_searchKNN.fit(X_train,y_train)\n",
    "grid_searchKNN.best_params_,grid_searchKNN.best_score_"
   ]
  },
  {
   "cell_type": "code",
   "execution_count": 17,
   "metadata": {},
   "outputs": [
    {
     "data": {
      "text/plain": [
       "({'algorithm': 'auto'}, 0.8260381593714927)"
      ]
     },
     "execution_count": 17,
     "metadata": {},
     "output_type": "execute_result"
    }
   ],
   "source": [
    "algorithm = ['auto', 'ball_tree','kd_tree','brute']      # \n",
    "param_grid = dict(algorithm=algorithm)\n",
    "grid_searchKNN=GridSearchCV(KNeighborsClassifier(n_neighbors = 6),param_grid,cv=10)\n",
    "grid_searchKNN.fit(X_train,y_train)\n",
    "KNN = grid_searchKNN.best_estimator_\n",
    "grid_searchKNN.best_params_,grid_searchKNN.best_score_"
   ]
  },
  {
   "cell_type": "code",
   "execution_count": null,
   "metadata": {},
   "outputs": [],
   "source": [
    "# ********************* Combined *******************************"
   ]
  },
  {
   "cell_type": "code",
   "execution_count": 26,
   "metadata": {},
   "outputs": [
    {
     "name": "stderr",
     "output_type": "stream",
     "text": [
      "/anaconda3/lib/python3.6/site-packages/sklearn/preprocessing/label.py:151: DeprecationWarning: The truth value of an empty array is ambiguous. Returning False, but in future this will result in an error. Use `array.size > 0` to check that an array is not empty.\n",
      "  if diff:\n",
      "/anaconda3/lib/python3.6/site-packages/sklearn/preprocessing/label.py:151: DeprecationWarning: The truth value of an empty array is ambiguous. Returning False, but in future this will result in an error. Use `array.size > 0` to check that an array is not empty.\n",
      "  if diff:\n",
      "/anaconda3/lib/python3.6/site-packages/sklearn/preprocessing/label.py:151: DeprecationWarning: The truth value of an empty array is ambiguous. Returning False, but in future this will result in an error. Use `array.size > 0` to check that an array is not empty.\n",
      "  if diff:\n",
      "/anaconda3/lib/python3.6/site-packages/sklearn/preprocessing/label.py:151: DeprecationWarning: The truth value of an empty array is ambiguous. Returning False, but in future this will result in an error. Use `array.size > 0` to check that an array is not empty.\n",
      "  if diff:\n",
      "/anaconda3/lib/python3.6/site-packages/sklearn/preprocessing/label.py:151: DeprecationWarning: The truth value of an empty array is ambiguous. Returning False, but in future this will result in an error. Use `array.size > 0` to check that an array is not empty.\n",
      "  if diff:\n",
      "/anaconda3/lib/python3.6/site-packages/sklearn/preprocessing/label.py:151: DeprecationWarning: The truth value of an empty array is ambiguous. Returning False, but in future this will result in an error. Use `array.size > 0` to check that an array is not empty.\n",
      "  if diff:\n",
      "/anaconda3/lib/python3.6/site-packages/sklearn/preprocessing/label.py:151: DeprecationWarning: The truth value of an empty array is ambiguous. Returning False, but in future this will result in an error. Use `array.size > 0` to check that an array is not empty.\n",
      "  if diff:\n",
      "/anaconda3/lib/python3.6/site-packages/sklearn/preprocessing/label.py:151: DeprecationWarning: The truth value of an empty array is ambiguous. Returning False, but in future this will result in an error. Use `array.size > 0` to check that an array is not empty.\n",
      "  if diff:\n"
     ]
    },
    {
     "name": "stdout",
     "output_type": "stream",
     "text": [
      "eclf1 0.8192719328112587\n"
     ]
    },
    {
     "name": "stderr",
     "output_type": "stream",
     "text": [
      "/anaconda3/lib/python3.6/site-packages/sklearn/preprocessing/label.py:151: DeprecationWarning: The truth value of an empty array is ambiguous. Returning False, but in future this will result in an error. Use `array.size > 0` to check that an array is not empty.\n",
      "  if diff:\n",
      "/anaconda3/lib/python3.6/site-packages/sklearn/preprocessing/label.py:151: DeprecationWarning: The truth value of an empty array is ambiguous. Returning False, but in future this will result in an error. Use `array.size > 0` to check that an array is not empty.\n",
      "  if diff:\n"
     ]
    }
   ],
   "source": [
    "#Combined\n",
    "eclf1 = VotingClassifier(estimators=[ ('mlp', NN), ('svm', SVM),('knn',KNN)], voting='hard')\n",
    "eclf1 = eclf1.fit(X_train, y_train)\n",
    "scores = cross_val_score(eclf1, X_train, y_train, cv=10)\n",
    "print('eclf1',np.mean(scores))"
   ]
  },
  {
   "cell_type": "code",
   "execution_count": null,
   "metadata": {},
   "outputs": [],
   "source": [
    "# ***************** Write into CSV **********************"
   ]
  },
  {
   "cell_type": "code",
   "execution_count": 27,
   "metadata": {},
   "outputs": [
    {
     "name": "stderr",
     "output_type": "stream",
     "text": [
      "/anaconda3/lib/python3.6/site-packages/sklearn/preprocessing/label.py:151: DeprecationWarning: The truth value of an empty array is ambiguous. Returning False, but in future this will result in an error. Use `array.size > 0` to check that an array is not empty.\n",
      "  if diff:\n"
     ]
    }
   ],
   "source": [
    "predictions=eclf1.predict(X_prediction)\n",
    "y_prediction = predictions\n",
    "ID = np.linspace (892,1309, 418, dtype = np.int32) \n",
    "dictionary = {'PassengerId': ID, 'Survived': y_prediction} \n",
    "y_prediction_final = pd.DataFrame(dictionary)\n",
    "y_prediction_final\n",
    "y_prediction_final.to_csv (\"predicted_class_eclf.csv\", index = False)"
   ]
  },
  {
   "cell_type": "code",
   "execution_count": 21,
   "metadata": {},
   "outputs": [],
   "source": [
    "predictions=SVM.predict(X_prediction)\n",
    "y_prediction = predictions\n",
    "ID = np.linspace (892,1309, 418, dtype = np.int32) \n",
    "dictionary = {'PassengerId': ID, 'Survived': y_prediction} \n",
    "y_prediction_final = pd.DataFrame(dictionary)\n",
    "y_prediction_final\n",
    "y_prediction_final.to_csv (\"predicted_class_svm.csv\", index = False)"
   ]
  },
  {
   "cell_type": "code",
   "execution_count": 28,
   "metadata": {},
   "outputs": [],
   "source": [
    "predictions=NN.predict(X_prediction)\n",
    "y_prediction = predictions\n",
    "ID = np.linspace (892,1309, 418, dtype = np.int32) \n",
    "dictionary = {'PassengerId': ID, 'Survived': y_prediction} \n",
    "y_prediction_final = pd.DataFrame(dictionary)\n",
    "y_prediction_final\n",
    "y_prediction_final.to_csv (\"predicted_class_mlp.csv\", index = False)"
   ]
  },
  {
   "cell_type": "code",
   "execution_count": 23,
   "metadata": {},
   "outputs": [],
   "source": [
    "predictions=LR.predict(X_prediction)\n",
    "y_prediction = predictions\n",
    "ID = np.linspace (892,1309, 418, dtype = np.int32) \n",
    "dictionary = {'PassengerId': ID, 'Survived': y_prediction} \n",
    "y_prediction_final = pd.DataFrame(dictionary)\n",
    "y_prediction_final\n",
    "y_prediction_final.to_csv (\"predicted_class_lr.csv\", index = False)"
   ]
  },
  {
   "cell_type": "code",
   "execution_count": 24,
   "metadata": {},
   "outputs": [],
   "source": [
    "predictions=KNN.predict(X_prediction)\n",
    "y_prediction = predictions\n",
    "ID = np.linspace (892,1309, 418, dtype = np.int32) \n",
    "dictionary = {'PassengerId': ID, 'Survived': y_prediction} \n",
    "y_prediction_final = pd.DataFrame(dictionary)\n",
    "y_prediction_final\n",
    "y_prediction_final.to_csv (\"predicted_class_knn.csv\", index = False)"
   ]
  },
  {
   "cell_type": "code",
   "execution_count": null,
   "metadata": {},
   "outputs": [],
   "source": []
  }
 ],
 "metadata": {
  "kernelspec": {
   "display_name": "Python 3",
   "language": "python",
   "name": "python3"
  },
  "language_info": {
   "codemirror_mode": {
    "name": "ipython",
    "version": 3
   },
   "file_extension": ".py",
   "mimetype": "text/x-python",
   "name": "python",
   "nbconvert_exporter": "python",
   "pygments_lexer": "ipython3",
   "version": "3.6.0"
  }
 },
 "nbformat": 4,
 "nbformat_minor": 2
}
